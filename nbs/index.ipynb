{
 "cells": [
  {
   "cell_type": "code",
   "execution_count": null,
   "metadata": {},
   "outputs": [],
   "source": [
    "#| hide\n",
    "# from mudiarto.github.io.core import *"
   ]
  },
  {
   "cell_type": "markdown",
   "metadata": {},
   "source": [
    "# Kusno Mudiarto's Blog\n",
    "\n",
    "> Welcome to my home on the internet"
   ]
  },
  {
   "cell_type": "markdown",
   "metadata": {},
   "source": "A place to keep my notes and experiment with what I learn. I hope it is helpful for you too."
  },
  {
   "cell_type": "markdown",
   "metadata": {},
   "source": "## Links"
  },
  {
   "cell_type": "markdown",
   "metadata": {},
   "source": [
    "- [GitHub/mudiarto](https://github.com/mudiarto)\n",
    "- [LinkedIn/mudiarto](https://www.linkedin.com/in/mudiarto/)\n",
    "- [Twitter/mudiarto](https://twitter.com/mudiarto)"
   ]
  },
  {
   "cell_type": "markdown",
   "metadata": {},
   "source": ""
  },
  {
   "cell_type": "markdown",
   "metadata": {},
   "source": [
    "#### Credits\n",
    "* This page was created using [nbdev](https://nbdev.fast.ai/)."
   ]
  }
 ],
 "metadata": {
  "kernelspec": {
   "display_name": "python3",
   "language": "python",
   "name": "python3"
  }
 },
 "nbformat": 4,
 "nbformat_minor": 4
}
